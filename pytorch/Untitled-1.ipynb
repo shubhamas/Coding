{
 "metadata": {
  "language_info": {
   "codemirror_mode": {
    "name": "ipython",
    "version": 3
   },
   "file_extension": ".py",
   "mimetype": "text/x-python",
   "name": "python",
   "nbconvert_exporter": "python",
   "pygments_lexer": "ipython3",
   "version": "3.8.5"
  },
  "orig_nbformat": 2,
  "kernelspec": {
   "name": "python385jvsc74a57bd0183bbf6827d058c2a2fb0f4acdc0420849dda2b4380af0e437e38c64d798d8b7",
   "display_name": "Python 3.8.5 64-bit ('base': conda)"
  }
 },
 "nbformat": 4,
 "nbformat_minor": 2,
 "cells": [
  {
   "cell_type": "code",
   "execution_count": 1,
   "metadata": {},
   "outputs": [],
   "source": [
    "import torch \n",
    "\n",
    "device = \"cuda\" if torch.cuda.is_available() else \"cpu\"\n",
    "my_tensor = torch.tensor([[1,2,3],[4,5,6]],dtype=torch.float32,\n",
    "                        device = device, requires_grad=True)\n",
    "print(my_tensor)\n",
    "print(my_tensor.dtype) \n",
    "print(my_tensor.device) \n",
    "print(my_tensor.shape)\n",
    "print(my_tensor.requires_grad)\n",
    "\n",
    "# Other common initialisation methods\n",
    "\n",
    "x = torch.empty(size = (3,3))\n",
    "x = torch.zeros((3,3))\n",
    "x = torch.rand((3,3))\n",
    "# print(x)\n",
    "x = torch.ones((3,3))\n",
    "x = torch.eye(5,5)\n",
    "x = torch.arange(start=0,end=5,step=1)\n",
    "x = torch.linspace(start=0.1, end=1, steps=10)\n",
    "x = torch.empty(size=(1,5)).normal_(mean=0,std=1)\n",
    "\n",
    "x = torch.empty(size=(1,5)).uniform_(0,1)\n",
    "x = torch.diag(torch.ones(3))\n",
    "print(x)\n",
    "\n",
    "# How to initialize and convert tensors to other types \n",
    "\n",
    "tensor = torch.arange(4)\n",
    "\n",
    "\n",
    "\n",
    "\n",
    "\n"
   ]
  },
  {
   "cell_type": "code",
   "execution_count": null,
   "metadata": {},
   "outputs": [],
   "source": []
  }
 ]
}